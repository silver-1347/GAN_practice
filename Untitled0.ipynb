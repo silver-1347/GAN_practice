{
  "nbformat": 4,
  "nbformat_minor": 0,
  "metadata": {
    "colab": {
      "name": "Untitled0.ipynb",
      "version": "0.3.2",
      "provenance": [],
      "collapsed_sections": [],
      "include_colab_link": true
    },
    "kernelspec": {
      "name": "python3",
      "display_name": "Python 3"
    },
    "accelerator": "GPU"
  },
  "cells": [
    {
      "cell_type": "markdown",
      "metadata": {
        "id": "view-in-github",
        "colab_type": "text"
      },
      "source": [
        "<a href=\"https://colab.research.google.com/github/silver-1347/GAN_practice/blob/master/Untitled0.ipynb\" target=\"_parent\"><img src=\"https://colab.research.google.com/assets/colab-badge.svg\" alt=\"Open In Colab\"/></a>"
      ]
    },
    {
      "metadata": {
        "id": "hNwhgAwk_yF1",
        "colab_type": "code",
        "outputId": "c8826e56-85ca-42a4-b7a8-d4c9723bcb0d",
        "colab": {
          "base_uri": "https://localhost:8080/",
          "height": 119
        }
      },
      "cell_type": "code",
      "source": [
        "!pip install torch torchvision tqdm"
      ],
      "execution_count": 1,
      "outputs": [
        {
          "output_type": "stream",
          "text": [
            "Requirement already satisfied: torch in /usr/local/lib/python3.6/dist-packages (1.0.0)\n",
            "Requirement already satisfied: torchvision in /usr/local/lib/python3.6/dist-packages (0.2.1)\n",
            "Requirement already satisfied: tqdm in /usr/local/lib/python3.6/dist-packages (4.28.1)\n",
            "Requirement already satisfied: pillow>=4.1.1 in /usr/local/lib/python3.6/dist-packages (from torchvision) (5.4.1)\n",
            "Requirement already satisfied: six in /usr/local/lib/python3.6/dist-packages (from torchvision) (1.11.0)\n",
            "Requirement already satisfied: numpy in /usr/local/lib/python3.6/dist-packages (from torchvision) (1.14.6)\n"
          ],
          "name": "stdout"
        }
      ]
    },
    {
      "metadata": {
        "id": "Ix2XobVW_8yU",
        "colab_type": "code",
        "colab": {}
      },
      "cell_type": "code",
      "source": [
        "import os\n",
        "import numpy as np\n",
        "import math\n",
        "from tqdm import tqdm\n",
        "\n",
        "import torch\n",
        "import torch.nn as nn\n",
        "import torch.nn.functional as F\n",
        "\n",
        "import torchvision.transforms as transforms\n",
        "from torch.utils.data import DataLoader\n",
        "from torchvision.datasets import SVHN\n",
        "from torch.autograd import Variable"
      ],
      "execution_count": 0,
      "outputs": []
    },
    {
      "metadata": {
        "id": "2CH3HdI37rBI",
        "colab_type": "code",
        "colab": {}
      },
      "cell_type": "code",
      "source": [
        "# ハイパーパラメータ\n",
        "n_epochs=50\n",
        "batch_size=64\n",
        "lr = 0.0002\n",
        "b1 = 0.5\n",
        "b2 = 0.999\n",
        "n_cpu = 8\n",
        "latent_dim = 100\n",
        "img_size=32\n",
        "channels=3"
      ],
      "execution_count": 0,
      "outputs": []
    },
    {
      "metadata": {
        "id": "-4SdgBC3Aeu5",
        "colab_type": "code",
        "outputId": "96ed6c56-f499-4cf3-dc93-248c060d914f",
        "colab": {
          "base_uri": "https://localhost:8080/",
          "height": 34
        }
      },
      "cell_type": "code",
      "source": [
        "svhn_data = SVHN('./mnist',download=True,\n",
        "                                       transform=transforms.Compose([\n",
        "                                           transforms.ToTensor(),\n",
        "                                           transforms.Normalize((0.5,0.5,0.5),(0.5,0.5,0.5))\n",
        "                                       ]))\n",
        "data_loader = DataLoader(svhn_data,batch_size=batch_size,shuffle=True)"
      ],
      "execution_count": 4,
      "outputs": [
        {
          "output_type": "stream",
          "text": [
            "Using downloaded and verified file: ./mnist/train_32x32.mat\n"
          ],
          "name": "stdout"
        }
      ]
    },
    {
      "metadata": {
        "id": "jXLKWGK6Gx4B",
        "colab_type": "code",
        "colab": {}
      },
      "cell_type": "code",
      "source": [
        "cuda = True if torch.cuda.is_available() else False"
      ],
      "execution_count": 0,
      "outputs": []
    },
    {
      "metadata": {
        "id": "_4BxcPg3JLCR",
        "colab_type": "code",
        "colab": {}
      },
      "cell_type": "code",
      "source": [
        "# 重み初期化\n",
        "def weights_init_normal(m):\n",
        "  classname = m.__class__.__name__\n",
        "  if classname.find('Conv') != -1:\n",
        "    torch.nn.init.normal_(m.weight.data,0.0,0.02)\n",
        "  elif classname.find('BatchNorm2d') != -1:\n",
        "    torch.nn.init.normal_(m.weight.data, 1.0, 0.02)\n",
        "    torch.nn.init.constant_(m.bias.data,0.0)"
      ],
      "execution_count": 0,
      "outputs": []
    },
    {
      "metadata": {
        "id": "x4olSzJqLVX6",
        "colab_type": "code",
        "colab": {}
      },
      "cell_type": "code",
      "source": [
        "class Generator(nn.Module):\n",
        "  def __init__(self):\n",
        "    super(Generator,self).__init__()\n",
        "    \n",
        "    self.init_size = img_size // 4\n",
        "    self.l1 = nn.Sequential(nn.Linear(latent_dim, 128*self.init_size**2))\n",
        "    \n",
        "    self.conv_blocks = nn.Sequential(\n",
        "        nn.BatchNorm2d(128),\n",
        "        nn.Upsample(scale_factor=2),\n",
        "        \n",
        "        nn.Conv2d(128, 128, 3, stride=1, padding=1),\n",
        "        nn.BatchNorm2d(128,0.8),\n",
        "        nn.LeakyReLU(0.2, inplace=True),\n",
        "        nn.Upsample(scale_factor=2),\n",
        "        \n",
        "        nn.Conv2d(128, 64, 3, stride=1, padding=1),\n",
        "        nn.BatchNorm2d(64,0.8),\n",
        "        nn.LeakyReLU(0.2, inplace=True),\n",
        "        \n",
        "        nn.Conv2d(64, channels, 3, stride=1, padding=1),\n",
        "        nn.Tanh()\n",
        "    )\n",
        "    \n",
        "  def forward(self, z):\n",
        "    out = self.l1(z)\n",
        "    out = out.view(out.shape[0], 128, self.init_size, self.init_size)\n",
        "    img = self.conv_blocks(out)\n",
        "    return img"
      ],
      "execution_count": 0,
      "outputs": []
    },
    {
      "metadata": {
        "id": "b7cQLNo5-Qm2",
        "colab_type": "code",
        "colab": {}
      },
      "cell_type": "code",
      "source": [
        "# Discriminator定義\n",
        "class Discriminator(nn.Module):\n",
        "  def __init__(self):\n",
        "    super(Discriminator,self).__init__()\n",
        "    \n",
        "    def discriminator_block(in_filters, out_filters, bn=True):\n",
        "      block = [\n",
        "          nn.Conv2d(in_filters, out_filters, 3, 2, 1),\n",
        "          nn.LeakyReLU(0.2, inplace=True),\n",
        "          nn.Dropout2d(0.25)\n",
        "      ]\n",
        "      if bn:\n",
        "        block.append(nn.BatchNorm2d(out_filters, 0.8))\n",
        "      return block\n",
        "    \n",
        "    self.model = nn.Sequential(\n",
        "        *discriminator_block(channels, 16, bn=False),\n",
        "        *discriminator_block(16,32),\n",
        "        *discriminator_block(32,64),\n",
        "        *discriminator_block(64,128),\n",
        "    )\n",
        "    \n",
        "    ds_size = img_size // 2**4\n",
        "    self.adv_layer = nn.Sequential(nn.Linear(128*ds_size**2,1),\n",
        "                                                          nn.Sigmoid())\n",
        "    \n",
        "  def forward(self, img):\n",
        "    out = self.model(img)\n",
        "    out = out.view(out.shape[0],-1)\n",
        "    validity = self.adv_layer(out)\n",
        "    \n",
        "    return validity"
      ],
      "execution_count": 0,
      "outputs": []
    },
    {
      "metadata": {
        "id": "AEzDoKhaAOMs",
        "colab_type": "code",
        "colab": {}
      },
      "cell_type": "code",
      "source": [
        "# GAN loss バイナリ交差エントロピー\n",
        "adversarial_loss = nn.BCELoss()"
      ],
      "execution_count": 0,
      "outputs": []
    },
    {
      "metadata": {
        "id": "NpP9nu1xBB55",
        "colab_type": "code",
        "colab": {}
      },
      "cell_type": "code",
      "source": [
        "# モデル生成\n",
        "generator = Generator()\n",
        "discriminator = Discriminator()"
      ],
      "execution_count": 0,
      "outputs": []
    },
    {
      "metadata": {
        "id": "u87pX_G_BG7t",
        "colab_type": "code",
        "colab": {}
      },
      "cell_type": "code",
      "source": [
        "# gpu使えるなら\n",
        "if cuda:\n",
        "  generator.cuda()\n",
        "  discriminator.cuda()\n",
        "  adversarial_loss.cuda()"
      ],
      "execution_count": 0,
      "outputs": []
    },
    {
      "metadata": {
        "id": "9bSUO5H-Blsx",
        "colab_type": "code",
        "outputId": "481aa8e7-55af-4944-aa82-c20b3cffbdda",
        "colab": {
          "base_uri": "https://localhost:8080/",
          "height": 408
        }
      },
      "cell_type": "code",
      "source": [
        "# 重み初期化\n",
        "generator.apply(weights_init_normal)\n",
        "discriminator.apply(weights_init_normal)"
      ],
      "execution_count": 12,
      "outputs": [
        {
          "output_type": "execute_result",
          "data": {
            "text/plain": [
              "Discriminator(\n",
              "  (model): Sequential(\n",
              "    (0): Conv2d(3, 16, kernel_size=(3, 3), stride=(2, 2), padding=(1, 1))\n",
              "    (1): LeakyReLU(negative_slope=0.2, inplace)\n",
              "    (2): Dropout2d(p=0.25)\n",
              "    (3): Conv2d(16, 32, kernel_size=(3, 3), stride=(2, 2), padding=(1, 1))\n",
              "    (4): LeakyReLU(negative_slope=0.2, inplace)\n",
              "    (5): Dropout2d(p=0.25)\n",
              "    (6): BatchNorm2d(32, eps=0.8, momentum=0.1, affine=True, track_running_stats=True)\n",
              "    (7): Conv2d(32, 64, kernel_size=(3, 3), stride=(2, 2), padding=(1, 1))\n",
              "    (8): LeakyReLU(negative_slope=0.2, inplace)\n",
              "    (9): Dropout2d(p=0.25)\n",
              "    (10): BatchNorm2d(64, eps=0.8, momentum=0.1, affine=True, track_running_stats=True)\n",
              "    (11): Conv2d(64, 128, kernel_size=(3, 3), stride=(2, 2), padding=(1, 1))\n",
              "    (12): LeakyReLU(negative_slope=0.2, inplace)\n",
              "    (13): Dropout2d(p=0.25)\n",
              "    (14): BatchNorm2d(128, eps=0.8, momentum=0.1, affine=True, track_running_stats=True)\n",
              "  )\n",
              "  (adv_layer): Sequential(\n",
              "    (0): Linear(in_features=512, out_features=1, bias=True)\n",
              "    (1): Sigmoid()\n",
              "  )\n",
              ")"
            ]
          },
          "metadata": {
            "tags": []
          },
          "execution_count": 12
        }
      ]
    },
    {
      "metadata": {
        "id": "W_sTr6DPBn78",
        "colab_type": "code",
        "colab": {}
      },
      "cell_type": "code",
      "source": [
        "#　最適化設定\n",
        "optimizer_G = torch.optim.Adam(generator.parameters(), lr=lr, betas=(b1, b2))\n",
        "optimizer_D = torch.optim.Adam(discriminator.parameters(), lr=lr, betas=(b1, b2))"
      ],
      "execution_count": 0,
      "outputs": []
    },
    {
      "metadata": {
        "id": "I6UqhD6KCuET",
        "colab_type": "code",
        "colab": {}
      },
      "cell_type": "code",
      "source": [
        "Tensor = torch.cuda.FloatTensor if cuda else torch.FloatTensor"
      ],
      "execution_count": 0,
      "outputs": []
    },
    {
      "metadata": {
        "id": "2X1bPV3uDQR-",
        "colab_type": "code",
        "outputId": "737890f8-7d0d-456a-ca7d-823aeaf19f09",
        "colab": {
          "base_uri": "https://localhost:8080/",
          "height": 1751
        }
      },
      "cell_type": "code",
      "source": [
        "for epoch in range(n_epochs):\n",
        "  for i, (imgs, _) in enumerate(tqdm(data_loader)):\n",
        "    \n",
        "    # adversarial loss計算用の1と0\n",
        "    valid = Variable(Tensor(imgs.shape[0],1).fill_(1.0), requires_grad=False)\n",
        "    fake = Variable(Tensor(imgs.shape[0],1).fill_(0.0), requires_grad=False)\n",
        "    \n",
        "    # 入力画像\n",
        "    real_imgs = Variable(imgs.type(Tensor))\n",
        "    \n",
        "    # Generator学習\n",
        "    optimizer_G.zero_grad()\n",
        "    \n",
        "    z = Variable(Tensor(np.random.normal(0,1,(imgs.shape[0],latent_dim))))\n",
        "    \n",
        "    gen_imgs = generator(z)\n",
        "    \n",
        "    # 生成した画像がdisciriminatorによってvalidと見なされるように\n",
        "    g_loss = adversarial_loss(discriminator(gen_imgs), valid)\n",
        "    \n",
        "    g_loss.backward()\n",
        "    optimizer_G.step()\n",
        "    \n",
        "    # Discriminator学習\n",
        "    \n",
        "    optimizer_D.zero_grad()\n",
        "    \n",
        "    # 実画像がvalidと見抜けるように\n",
        "    d_loss_real = adversarial_loss(discriminator(real_imgs), valid)\n",
        "    # 生成された画像をfakeと見抜けるように\n",
        "    d_loss_fake = adversarial_loss(discriminator(gen_imgs.detach()),fake)\n",
        "    \n",
        "    d_loss = (d_loss_real + d_loss_fake) / 2\n",
        "    \n",
        "    d_loss.backward()\n",
        "    optimizer_D.step()\n",
        "    \n",
        "    # ロス出力\n",
        "  print (\"[Epoch %d/%d] [Batch %d/%d] [D loss: %f] [G loss: %f]\" % (epoch, n_epochs, i, len(data_loader),\n",
        "                                                            d_loss.item(), g_loss.item()))"
      ],
      "execution_count": 15,
      "outputs": [
        {
          "output_type": "stream",
          "text": [
            "  0%|          | 0/1145 [00:00<?, ?it/s]/usr/local/lib/python3.6/dist-packages/torch/nn/modules/upsampling.py:129: UserWarning: nn.Upsample is deprecated. Use nn.functional.interpolate instead.\n",
            "  warnings.warn(\"nn.{} is deprecated. Use nn.functional.interpolate instead.\".format(self.name))\n",
            "100%|██████████| 1145/1145 [02:00<00:00,  9.52it/s]\n",
            "  0%|          | 1/1145 [00:00<02:04,  9.19it/s]"
          ],
          "name": "stderr"
        },
        {
          "output_type": "stream",
          "text": [
            "[Epoch 0/50] [Batch 1144/1145] [D loss: 0.694645] [G loss: 0.685752]\n"
          ],
          "name": "stdout"
        },
        {
          "output_type": "stream",
          "text": [
            "100%|██████████| 1145/1145 [02:00<00:00,  9.53it/s]\n",
            "  0%|          | 1/1145 [00:00<02:01,  9.42it/s]"
          ],
          "name": "stderr"
        },
        {
          "output_type": "stream",
          "text": [
            "[Epoch 1/50] [Batch 1144/1145] [D loss: 0.700387] [G loss: 0.680618]\n"
          ],
          "name": "stdout"
        },
        {
          "output_type": "stream",
          "text": [
            "100%|██████████| 1145/1145 [02:00<00:00,  9.54it/s]\n",
            "  0%|          | 1/1145 [00:00<02:02,  9.35it/s]"
          ],
          "name": "stderr"
        },
        {
          "output_type": "stream",
          "text": [
            "[Epoch 2/50] [Batch 1144/1145] [D loss: 0.694064] [G loss: 0.691999]\n"
          ],
          "name": "stdout"
        },
        {
          "output_type": "stream",
          "text": [
            "100%|██████████| 1145/1145 [02:00<00:00,  9.52it/s]\n",
            "  0%|          | 1/1145 [00:00<02:03,  9.26it/s]"
          ],
          "name": "stderr"
        },
        {
          "output_type": "stream",
          "text": [
            "[Epoch 3/50] [Batch 1144/1145] [D loss: 0.699996] [G loss: 0.703512]\n"
          ],
          "name": "stdout"
        },
        {
          "output_type": "stream",
          "text": [
            "100%|██████████| 1145/1145 [02:00<00:00,  9.53it/s]\n",
            "  0%|          | 1/1145 [00:00<02:07,  8.99it/s]"
          ],
          "name": "stderr"
        },
        {
          "output_type": "stream",
          "text": [
            "[Epoch 4/50] [Batch 1144/1145] [D loss: 0.693711] [G loss: 0.688252]\n"
          ],
          "name": "stdout"
        },
        {
          "output_type": "stream",
          "text": [
            "100%|██████████| 1145/1145 [02:00<00:00,  9.52it/s]\n",
            "  0%|          | 1/1145 [00:00<02:01,  9.40it/s]"
          ],
          "name": "stderr"
        },
        {
          "output_type": "stream",
          "text": [
            "[Epoch 5/50] [Batch 1144/1145] [D loss: 0.693755] [G loss: 0.692295]\n"
          ],
          "name": "stdout"
        },
        {
          "output_type": "stream",
          "text": [
            "100%|██████████| 1145/1145 [02:00<00:00,  9.50it/s]\n",
            "  0%|          | 1/1145 [00:00<01:59,  9.53it/s]"
          ],
          "name": "stderr"
        },
        {
          "output_type": "stream",
          "text": [
            "[Epoch 6/50] [Batch 1144/1145] [D loss: 0.691978] [G loss: 0.700725]\n"
          ],
          "name": "stdout"
        },
        {
          "output_type": "stream",
          "text": [
            "100%|██████████| 1145/1145 [02:00<00:00,  9.50it/s]\n",
            "  0%|          | 1/1145 [00:00<02:00,  9.47it/s]"
          ],
          "name": "stderr"
        },
        {
          "output_type": "stream",
          "text": [
            "[Epoch 7/50] [Batch 1144/1145] [D loss: 0.694929] [G loss: 0.692346]\n"
          ],
          "name": "stdout"
        },
        {
          "output_type": "stream",
          "text": [
            "100%|██████████| 1145/1145 [02:00<00:00,  9.51it/s]\n",
            "  0%|          | 1/1145 [00:00<02:01,  9.40it/s]"
          ],
          "name": "stderr"
        },
        {
          "output_type": "stream",
          "text": [
            "[Epoch 8/50] [Batch 1144/1145] [D loss: 0.695328] [G loss: 0.692059]\n"
          ],
          "name": "stdout"
        },
        {
          "output_type": "stream",
          "text": [
            "100%|██████████| 1145/1145 [02:00<00:00,  9.51it/s]\n",
            "  0%|          | 1/1145 [00:00<02:03,  9.28it/s]"
          ],
          "name": "stderr"
        },
        {
          "output_type": "stream",
          "text": [
            "[Epoch 9/50] [Batch 1144/1145] [D loss: 0.695954] [G loss: 0.693489]\n"
          ],
          "name": "stdout"
        },
        {
          "output_type": "stream",
          "text": [
            "100%|██████████| 1145/1145 [02:00<00:00,  9.51it/s]\n",
            "  0%|          | 1/1145 [00:00<02:03,  9.26it/s]"
          ],
          "name": "stderr"
        },
        {
          "output_type": "stream",
          "text": [
            "[Epoch 10/50] [Batch 1144/1145] [D loss: 0.693265] [G loss: 0.692995]\n"
          ],
          "name": "stdout"
        },
        {
          "output_type": "stream",
          "text": [
            "100%|██████████| 1145/1145 [02:00<00:00,  9.52it/s]\n",
            "  0%|          | 1/1145 [00:00<02:01,  9.40it/s]"
          ],
          "name": "stderr"
        },
        {
          "output_type": "stream",
          "text": [
            "[Epoch 11/50] [Batch 1144/1145] [D loss: 0.693443] [G loss: 0.693442]\n"
          ],
          "name": "stdout"
        },
        {
          "output_type": "stream",
          "text": [
            "100%|██████████| 1145/1145 [01:59<00:00,  9.55it/s]\n",
            "  0%|          | 1/1145 [00:00<02:00,  9.53it/s]"
          ],
          "name": "stderr"
        },
        {
          "output_type": "stream",
          "text": [
            "[Epoch 12/50] [Batch 1144/1145] [D loss: 0.693503] [G loss: 0.696415]\n"
          ],
          "name": "stdout"
        },
        {
          "output_type": "stream",
          "text": [
            "100%|██████████| 1145/1145 [01:59<00:00,  9.55it/s]\n",
            "  0%|          | 1/1145 [00:00<02:02,  9.32it/s]"
          ],
          "name": "stderr"
        },
        {
          "output_type": "stream",
          "text": [
            "[Epoch 13/50] [Batch 1144/1145] [D loss: 0.688608] [G loss: 0.704495]\n"
          ],
          "name": "stdout"
        },
        {
          "output_type": "stream",
          "text": [
            "100%|██████████| 1145/1145 [01:59<00:00,  9.55it/s]\n",
            "  0%|          | 1/1145 [00:00<02:03,  9.28it/s]"
          ],
          "name": "stderr"
        },
        {
          "output_type": "stream",
          "text": [
            "[Epoch 14/50] [Batch 1144/1145] [D loss: 0.713751] [G loss: 0.660697]\n"
          ],
          "name": "stdout"
        },
        {
          "output_type": "stream",
          "text": [
            "100%|██████████| 1145/1145 [02:00<00:00,  9.54it/s]\n",
            "  0%|          | 1/1145 [00:00<02:01,  9.42it/s]"
          ],
          "name": "stderr"
        },
        {
          "output_type": "stream",
          "text": [
            "[Epoch 15/50] [Batch 1144/1145] [D loss: 0.689772] [G loss: 0.703897]\n"
          ],
          "name": "stdout"
        },
        {
          "output_type": "stream",
          "text": [
            "100%|██████████| 1145/1145 [02:00<00:00,  9.53it/s]\n",
            "  0%|          | 1/1145 [00:00<02:11,  8.70it/s]"
          ],
          "name": "stderr"
        },
        {
          "output_type": "stream",
          "text": [
            "[Epoch 16/50] [Batch 1144/1145] [D loss: 0.695148] [G loss: 0.681380]\n"
          ],
          "name": "stdout"
        },
        {
          "output_type": "stream",
          "text": [
            "100%|██████████| 1145/1145 [02:00<00:00,  9.54it/s]\n",
            "  0%|          | 1/1145 [00:00<02:01,  9.40it/s]"
          ],
          "name": "stderr"
        },
        {
          "output_type": "stream",
          "text": [
            "[Epoch 17/50] [Batch 1144/1145] [D loss: 0.692024] [G loss: 0.736170]\n"
          ],
          "name": "stdout"
        },
        {
          "output_type": "stream",
          "text": [
            "100%|██████████| 1145/1145 [02:00<00:00,  9.54it/s]\n",
            "  0%|          | 1/1145 [00:00<02:06,  9.07it/s]"
          ],
          "name": "stderr"
        },
        {
          "output_type": "stream",
          "text": [
            "[Epoch 18/50] [Batch 1144/1145] [D loss: 0.660337] [G loss: 0.773222]\n"
          ],
          "name": "stdout"
        },
        {
          "output_type": "stream",
          "text": [
            "100%|██████████| 1145/1145 [02:00<00:00,  9.53it/s]\n",
            "  0%|          | 1/1145 [00:00<02:00,  9.49it/s]"
          ],
          "name": "stderr"
        },
        {
          "output_type": "stream",
          "text": [
            "[Epoch 19/50] [Batch 1144/1145] [D loss: 0.694257] [G loss: 0.687356]\n"
          ],
          "name": "stdout"
        },
        {
          "output_type": "stream",
          "text": [
            "100%|██████████| 1145/1145 [01:59<00:00,  9.55it/s]\n",
            "  0%|          | 1/1145 [00:00<02:01,  9.40it/s]"
          ],
          "name": "stderr"
        },
        {
          "output_type": "stream",
          "text": [
            "[Epoch 20/50] [Batch 1144/1145] [D loss: 0.680854] [G loss: 0.705269]\n"
          ],
          "name": "stdout"
        },
        {
          "output_type": "stream",
          "text": [
            "100%|██████████| 1145/1145 [01:59<00:00,  9.55it/s]\n",
            "  0%|          | 1/1145 [00:00<01:59,  9.56it/s]"
          ],
          "name": "stderr"
        },
        {
          "output_type": "stream",
          "text": [
            "[Epoch 21/50] [Batch 1144/1145] [D loss: 0.690471] [G loss: 0.710481]\n"
          ],
          "name": "stdout"
        },
        {
          "output_type": "stream",
          "text": [
            "100%|██████████| 1145/1145 [02:00<00:00,  9.49it/s]\n",
            "  0%|          | 1/1145 [00:00<02:01,  9.45it/s]"
          ],
          "name": "stderr"
        },
        {
          "output_type": "stream",
          "text": [
            "[Epoch 22/50] [Batch 1144/1145] [D loss: 0.698048] [G loss: 0.692067]\n"
          ],
          "name": "stdout"
        },
        {
          "output_type": "stream",
          "text": [
            "100%|██████████| 1145/1145 [02:01<00:00,  9.46it/s]\n",
            "  0%|          | 1/1145 [00:00<02:04,  9.16it/s]"
          ],
          "name": "stderr"
        },
        {
          "output_type": "stream",
          "text": [
            "[Epoch 23/50] [Batch 1144/1145] [D loss: 0.706008] [G loss: 0.681728]\n"
          ],
          "name": "stdout"
        },
        {
          "output_type": "stream",
          "text": [
            "100%|██████████| 1145/1145 [02:00<00:00,  9.46it/s]\n",
            "  0%|          | 1/1145 [00:00<02:01,  9.38it/s]"
          ],
          "name": "stderr"
        },
        {
          "output_type": "stream",
          "text": [
            "[Epoch 24/50] [Batch 1144/1145] [D loss: 0.690182] [G loss: 0.690170]\n"
          ],
          "name": "stdout"
        },
        {
          "output_type": "stream",
          "text": [
            "100%|██████████| 1145/1145 [02:01<00:00,  9.45it/s]\n",
            "  0%|          | 1/1145 [00:00<02:05,  9.09it/s]"
          ],
          "name": "stderr"
        },
        {
          "output_type": "stream",
          "text": [
            "[Epoch 25/50] [Batch 1144/1145] [D loss: 0.713131] [G loss: 0.703951]\n"
          ],
          "name": "stdout"
        },
        {
          "output_type": "stream",
          "text": [
            "100%|██████████| 1145/1145 [02:00<00:00,  9.47it/s]\n",
            "  0%|          | 1/1145 [00:00<02:02,  9.35it/s]"
          ],
          "name": "stderr"
        },
        {
          "output_type": "stream",
          "text": [
            "[Epoch 26/50] [Batch 1144/1145] [D loss: 0.687921] [G loss: 0.669932]\n"
          ],
          "name": "stdout"
        },
        {
          "output_type": "stream",
          "text": [
            "100%|██████████| 1145/1145 [02:00<00:00,  9.47it/s]\n",
            "  0%|          | 1/1145 [00:00<02:03,  9.25it/s]"
          ],
          "name": "stderr"
        },
        {
          "output_type": "stream",
          "text": [
            "[Epoch 27/50] [Batch 1144/1145] [D loss: 0.661801] [G loss: 0.660411]\n"
          ],
          "name": "stdout"
        },
        {
          "output_type": "stream",
          "text": [
            "100%|██████████| 1145/1145 [02:00<00:00,  9.47it/s]\n",
            "  0%|          | 1/1145 [00:00<02:01,  9.42it/s]"
          ],
          "name": "stderr"
        },
        {
          "output_type": "stream",
          "text": [
            "[Epoch 28/50] [Batch 1144/1145] [D loss: 0.686968] [G loss: 0.674890]\n"
          ],
          "name": "stdout"
        },
        {
          "output_type": "stream",
          "text": [
            "100%|██████████| 1145/1145 [02:04<00:00,  5.16it/s]\n",
            "  0%|          | 0/1145 [00:00<?, ?it/s]"
          ],
          "name": "stderr"
        },
        {
          "output_type": "stream",
          "text": [
            "[Epoch 29/50] [Batch 1144/1145] [D loss: 0.693992] [G loss: 0.756049]\n"
          ],
          "name": "stdout"
        },
        {
          "output_type": "stream",
          "text": [
            "100%|██████████| 1145/1145 [02:05<00:00,  9.09it/s]\n",
            "  0%|          | 1/1145 [00:00<02:02,  9.33it/s]"
          ],
          "name": "stderr"
        },
        {
          "output_type": "stream",
          "text": [
            "[Epoch 30/50] [Batch 1144/1145] [D loss: 0.666617] [G loss: 0.763547]\n"
          ],
          "name": "stdout"
        },
        {
          "output_type": "stream",
          "text": [
            "100%|██████████| 1145/1145 [02:02<00:00,  9.33it/s]\n",
            "  0%|          | 1/1145 [00:00<02:15,  8.42it/s]"
          ],
          "name": "stderr"
        },
        {
          "output_type": "stream",
          "text": [
            "[Epoch 31/50] [Batch 1144/1145] [D loss: 0.657199] [G loss: 0.713269]\n"
          ],
          "name": "stdout"
        },
        {
          "output_type": "stream",
          "text": [
            "100%|██████████| 1145/1145 [02:02<00:00,  9.35it/s]\n",
            "  0%|          | 1/1145 [00:00<02:02,  9.30it/s]"
          ],
          "name": "stderr"
        },
        {
          "output_type": "stream",
          "text": [
            "[Epoch 32/50] [Batch 1144/1145] [D loss: 0.716203] [G loss: 0.703035]\n"
          ],
          "name": "stdout"
        },
        {
          "output_type": "stream",
          "text": [
            "100%|██████████| 1145/1145 [02:02<00:00,  9.33it/s]\n",
            "  0%|          | 1/1145 [00:00<02:02,  9.33it/s]"
          ],
          "name": "stderr"
        },
        {
          "output_type": "stream",
          "text": [
            "[Epoch 33/50] [Batch 1144/1145] [D loss: 0.661107] [G loss: 0.693044]\n"
          ],
          "name": "stdout"
        },
        {
          "output_type": "stream",
          "text": [
            "100%|██████████| 1145/1145 [02:02<00:00,  9.37it/s]\n",
            "  0%|          | 1/1145 [00:00<02:03,  9.24it/s]"
          ],
          "name": "stderr"
        },
        {
          "output_type": "stream",
          "text": [
            "[Epoch 34/50] [Batch 1144/1145] [D loss: 0.665816] [G loss: 0.719777]\n"
          ],
          "name": "stdout"
        },
        {
          "output_type": "stream",
          "text": [
            "100%|██████████| 1145/1145 [02:02<00:00,  9.37it/s]\n",
            "  0%|          | 1/1145 [00:00<02:03,  9.30it/s]"
          ],
          "name": "stderr"
        },
        {
          "output_type": "stream",
          "text": [
            "[Epoch 35/50] [Batch 1144/1145] [D loss: 0.663965] [G loss: 0.716728]\n"
          ],
          "name": "stdout"
        },
        {
          "output_type": "stream",
          "text": [
            "100%|██████████| 1145/1145 [02:02<00:00,  9.38it/s]\n",
            "  0%|          | 1/1145 [00:00<02:03,  9.26it/s]"
          ],
          "name": "stderr"
        },
        {
          "output_type": "stream",
          "text": [
            "[Epoch 36/50] [Batch 1144/1145] [D loss: 0.659685] [G loss: 0.772649]\n"
          ],
          "name": "stdout"
        },
        {
          "output_type": "stream",
          "text": [
            "100%|██████████| 1145/1145 [02:02<00:00,  9.37it/s]\n",
            "  0%|          | 1/1145 [00:00<02:03,  9.26it/s]"
          ],
          "name": "stderr"
        },
        {
          "output_type": "stream",
          "text": [
            "[Epoch 37/50] [Batch 1144/1145] [D loss: 0.693117] [G loss: 0.761574]\n"
          ],
          "name": "stdout"
        },
        {
          "output_type": "stream",
          "text": [
            "100%|██████████| 1145/1145 [02:01<00:00,  9.43it/s]\n",
            "  0%|          | 1/1145 [00:00<02:06,  9.04it/s]"
          ],
          "name": "stderr"
        },
        {
          "output_type": "stream",
          "text": [
            "[Epoch 38/50] [Batch 1144/1145] [D loss: 0.674165] [G loss: 0.711020]\n"
          ],
          "name": "stdout"
        },
        {
          "output_type": "stream",
          "text": [
            "100%|██████████| 1145/1145 [02:01<00:00,  9.48it/s]\n",
            "  0%|          | 1/1145 [00:00<02:01,  9.40it/s]"
          ],
          "name": "stderr"
        },
        {
          "output_type": "stream",
          "text": [
            "[Epoch 39/50] [Batch 1144/1145] [D loss: 0.734303] [G loss: 0.666770]\n"
          ],
          "name": "stdout"
        },
        {
          "output_type": "stream",
          "text": [
            "100%|██████████| 1145/1145 [02:01<00:00,  9.42it/s]\n",
            "  0%|          | 1/1145 [00:00<02:02,  9.30it/s]"
          ],
          "name": "stderr"
        },
        {
          "output_type": "stream",
          "text": [
            "[Epoch 40/50] [Batch 1144/1145] [D loss: 0.684572] [G loss: 0.757925]\n"
          ],
          "name": "stdout"
        },
        {
          "output_type": "stream",
          "text": [
            "100%|██████████| 1145/1145 [02:01<00:00,  9.43it/s]\n",
            "  0%|          | 1/1145 [00:00<02:01,  9.43it/s]"
          ],
          "name": "stderr"
        },
        {
          "output_type": "stream",
          "text": [
            "[Epoch 41/50] [Batch 1144/1145] [D loss: 0.675883] [G loss: 0.769908]\n"
          ],
          "name": "stdout"
        },
        {
          "output_type": "stream",
          "text": [
            "100%|██████████| 1145/1145 [02:01<00:00,  9.44it/s]\n",
            "  0%|          | 1/1145 [00:00<02:01,  9.39it/s]"
          ],
          "name": "stderr"
        },
        {
          "output_type": "stream",
          "text": [
            "[Epoch 42/50] [Batch 1144/1145] [D loss: 0.597540] [G loss: 0.755021]\n"
          ],
          "name": "stdout"
        },
        {
          "output_type": "stream",
          "text": [
            "100%|██████████| 1145/1145 [02:01<00:00,  9.43it/s]\n",
            "  0%|          | 1/1145 [00:00<02:00,  9.47it/s]"
          ],
          "name": "stderr"
        },
        {
          "output_type": "stream",
          "text": [
            "[Epoch 43/50] [Batch 1144/1145] [D loss: 0.747383] [G loss: 0.707358]\n"
          ],
          "name": "stdout"
        },
        {
          "output_type": "stream",
          "text": [
            "100%|██████████| 1145/1145 [02:01<00:00,  9.43it/s]\n",
            "  0%|          | 1/1145 [00:00<02:04,  9.20it/s]"
          ],
          "name": "stderr"
        },
        {
          "output_type": "stream",
          "text": [
            "[Epoch 44/50] [Batch 1144/1145] [D loss: 0.672895] [G loss: 0.624435]\n"
          ],
          "name": "stdout"
        },
        {
          "output_type": "stream",
          "text": [
            "100%|██████████| 1145/1145 [02:01<00:00,  9.43it/s]\n",
            "  0%|          | 1/1145 [00:00<02:02,  9.31it/s]"
          ],
          "name": "stderr"
        },
        {
          "output_type": "stream",
          "text": [
            "[Epoch 45/50] [Batch 1144/1145] [D loss: 0.595863] [G loss: 0.751985]\n"
          ],
          "name": "stdout"
        },
        {
          "output_type": "stream",
          "text": [
            "100%|██████████| 1145/1145 [02:01<00:00,  9.42it/s]\n",
            "  0%|          | 1/1145 [00:00<02:02,  9.34it/s]"
          ],
          "name": "stderr"
        },
        {
          "output_type": "stream",
          "text": [
            "[Epoch 46/50] [Batch 1144/1145] [D loss: 0.610366] [G loss: 0.712267]\n"
          ],
          "name": "stdout"
        },
        {
          "output_type": "stream",
          "text": [
            "100%|██████████| 1145/1145 [02:01<00:00,  9.44it/s]\n",
            "  0%|          | 1/1145 [00:00<02:02,  9.36it/s]"
          ],
          "name": "stderr"
        },
        {
          "output_type": "stream",
          "text": [
            "[Epoch 47/50] [Batch 1144/1145] [D loss: 0.699936] [G loss: 0.748541]\n"
          ],
          "name": "stdout"
        },
        {
          "output_type": "stream",
          "text": [
            "100%|██████████| 1145/1145 [02:01<00:00,  9.44it/s]\n",
            "  0%|          | 1/1145 [00:00<02:07,  8.98it/s]"
          ],
          "name": "stderr"
        },
        {
          "output_type": "stream",
          "text": [
            "[Epoch 48/50] [Batch 1144/1145] [D loss: 0.663921] [G loss: 0.794715]\n"
          ],
          "name": "stdout"
        },
        {
          "output_type": "stream",
          "text": [
            "100%|██████████| 1145/1145 [02:01<00:00,  9.46it/s]"
          ],
          "name": "stderr"
        },
        {
          "output_type": "stream",
          "text": [
            "[Epoch 49/50] [Batch 1144/1145] [D loss: 0.665082] [G loss: 0.714524]\n"
          ],
          "name": "stdout"
        },
        {
          "output_type": "stream",
          "text": [
            "\n"
          ],
          "name": "stderr"
        }
      ]
    },
    {
      "metadata": {
        "id": "LmTfcfh1GZkK",
        "colab_type": "code",
        "colab": {
          "base_uri": "https://localhost:8080/",
          "height": 408
        },
        "outputId": "d853a3dd-eb7b-4343-c69a-f4c3e1b9875d"
      },
      "cell_type": "code",
      "source": [
        "# 評価モードに変更\n",
        "generator.eval()\n",
        "discriminator.eval()"
      ],
      "execution_count": 16,
      "outputs": [
        {
          "output_type": "execute_result",
          "data": {
            "text/plain": [
              "Discriminator(\n",
              "  (model): Sequential(\n",
              "    (0): Conv2d(3, 16, kernel_size=(3, 3), stride=(2, 2), padding=(1, 1))\n",
              "    (1): LeakyReLU(negative_slope=0.2, inplace)\n",
              "    (2): Dropout2d(p=0.25)\n",
              "    (3): Conv2d(16, 32, kernel_size=(3, 3), stride=(2, 2), padding=(1, 1))\n",
              "    (4): LeakyReLU(negative_slope=0.2, inplace)\n",
              "    (5): Dropout2d(p=0.25)\n",
              "    (6): BatchNorm2d(32, eps=0.8, momentum=0.1, affine=True, track_running_stats=True)\n",
              "    (7): Conv2d(32, 64, kernel_size=(3, 3), stride=(2, 2), padding=(1, 1))\n",
              "    (8): LeakyReLU(negative_slope=0.2, inplace)\n",
              "    (9): Dropout2d(p=0.25)\n",
              "    (10): BatchNorm2d(64, eps=0.8, momentum=0.1, affine=True, track_running_stats=True)\n",
              "    (11): Conv2d(64, 128, kernel_size=(3, 3), stride=(2, 2), padding=(1, 1))\n",
              "    (12): LeakyReLU(negative_slope=0.2, inplace)\n",
              "    (13): Dropout2d(p=0.25)\n",
              "    (14): BatchNorm2d(128, eps=0.8, momentum=0.1, affine=True, track_running_stats=True)\n",
              "  )\n",
              "  (adv_layer): Sequential(\n",
              "    (0): Linear(in_features=512, out_features=1, bias=True)\n",
              "    (1): Sigmoid()\n",
              "  )\n",
              ")"
            ]
          },
          "metadata": {
            "tags": []
          },
          "execution_count": 16
        }
      ]
    },
    {
      "metadata": {
        "id": "tHd48FtquSeT",
        "colab_type": "code",
        "colab": {
          "base_uri": "https://localhost:8080/",
          "height": 51
        },
        "outputId": "b2e41ee0-975a-498a-da6d-bcb250a00256"
      },
      "cell_type": "code",
      "source": [
        "# 画像生成テスト\n",
        "z = Tensor(np.random.normal(0,1,(64,latent_dim)))\n",
        "gen_imgs_test = (generator(z) + 1.0) * 127.5"
      ],
      "execution_count": 17,
      "outputs": [
        {
          "output_type": "stream",
          "text": [
            "/usr/local/lib/python3.6/dist-packages/torch/nn/modules/upsampling.py:129: UserWarning: nn.Upsample is deprecated. Use nn.functional.interpolate instead.\n",
            "  warnings.warn(\"nn.{} is deprecated. Use nn.functional.interpolate instead.\".format(self.name))\n"
          ],
          "name": "stderr"
        }
      ]
    },
    {
      "metadata": {
        "id": "2h86hWQiuu1d",
        "colab_type": "code",
        "colab": {}
      },
      "cell_type": "code",
      "source": [
        "import matplotlib.pyplot as plt"
      ],
      "execution_count": 0,
      "outputs": []
    },
    {
      "metadata": {
        "id": "Toh1kYSsvApg",
        "colab_type": "code",
        "colab": {
          "base_uri": "https://localhost:8080/",
          "height": 398
        },
        "outputId": "74f3a783-97fa-44de-90ae-43d185003b4d"
      },
      "cell_type": "code",
      "source": [
        "fig,ax = plt.subplots()\n",
        "ax.tick_params(labelbottom=\"off\",bottom=\"off\")\n",
        "ax.tick_params(labelleft=\"off\",left=\"off\")\n",
        "ax.set_xticklabels([]) \n",
        "ax.axis('off')\n",
        "plt.imshow(gen_imgs_test[1].detach().cpu().numpy().transpose(1,2,0).astype(np.uint8))"
      ],
      "execution_count": 32,
      "outputs": [
        {
          "output_type": "stream",
          "text": [
            "/usr/local/lib/python3.6/dist-packages/matplotlib/cbook/__init__.py:424: MatplotlibDeprecationWarning: \n",
            "Passing one of 'on', 'true', 'off', 'false' as a boolean is deprecated; use an actual boolean (True/False) instead.\n",
            "  warn_deprecated(\"2.2\", \"Passing one of 'on', 'true', 'off', 'false' as a \"\n"
          ],
          "name": "stderr"
        },
        {
          "output_type": "execute_result",
          "data": {
            "text/plain": [
              "<matplotlib.image.AxesImage at 0x7f8e84a7c198>"
            ]
          },
          "metadata": {
            "tags": []
          },
          "execution_count": 32
        },
        {
          "output_type": "display_data",
          "data": {
            "image/png": "[encoded data removed]",
            "text/plain": [
              "<Figure size 576x396 with 1 Axes>"
            ]
          },
          "metadata": {
            "tags": []
          }
        }
      ]
    },
    {
      "metadata": {
        "id": "P5ZTng34vYXo",
        "colab_type": "code",
        "colab": {}
      },
      "cell_type": "code",
      "source": [
        ""
      ],
      "execution_count": 0,
      "outputs": []
    }
  ]
}